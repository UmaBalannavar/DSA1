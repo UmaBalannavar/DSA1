{
 "cells": [
  {
   "cell_type": "markdown",
   "id": "996b3aa0",
   "metadata": {},
   "source": [
    "An armstrong number is a number which is equal to the sum of the digits of the number, raised to the power of the number of digits.\n",
    "n=153 13 + 53 + 33 = 1 + 125 + 27 = 153."
   ]
  },
  {
   "cell_type": "code",
   "execution_count": null,
   "id": "31b6f45f",
   "metadata": {},
   "outputs": [
    {
     "name": "stdout",
     "output_type": "stream",
     "text": [
      "3\n",
      "27\n"
     ]
    }
   ],
   "source": [
    "count=0\n",
    "summ=0\n",
    "\n",
    "n=153\n",
    "temp=n\n",
    "while temp>0:\n",
    "    temp=temp//10\n",
    "    count+=1\n",
    "temp=n\n",
    "while temp>0:\n",
    "    x=x%10\n",
    "    summ=summ+(x**count)\n",
    "    x=x//10\n",
    "print(count)\n",
    "print(summ)"
   ]
  }
 ],
 "metadata": {
  "kernelspec": {
   "display_name": "base",
   "language": "python",
   "name": "python3"
  },
  "language_info": {
   "codemirror_mode": {
    "name": "ipython",
    "version": 3
   },
   "file_extension": ".py",
   "mimetype": "text/x-python",
   "name": "python",
   "nbconvert_exporter": "python",
   "pygments_lexer": "ipython3",
   "version": "3.10.9"
  }
 },
 "nbformat": 4,
 "nbformat_minor": 5
}
